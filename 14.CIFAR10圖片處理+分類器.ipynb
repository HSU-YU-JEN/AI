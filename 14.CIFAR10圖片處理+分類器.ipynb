{
  "nbformat": 4,
  "nbformat_minor": 0,
  "metadata": {
    "colab": {
      "provenance": []
    },
    "kernelspec": {
      "name": "python3",
      "display_name": "Python 3"
    },
    "language_info": {
      "name": "python"
    },
    "widgets": {
      "application/vnd.jupyter.widget-state+json": {
        "d9e7e755f0e949049edfdfb849e43c64": {
          "model_module": "@jupyter-widgets/controls",
          "model_name": "HBoxModel",
          "model_module_version": "1.5.0",
          "state": {
            "_dom_classes": [],
            "_model_module": "@jupyter-widgets/controls",
            "_model_module_version": "1.5.0",
            "_model_name": "HBoxModel",
            "_view_count": null,
            "_view_module": "@jupyter-widgets/controls",
            "_view_module_version": "1.5.0",
            "_view_name": "HBoxView",
            "box_style": "",
            "children": [
              "IPY_MODEL_ea0a7b17aa2b4329a6a93924a5b31939",
              "IPY_MODEL_dc738505cb7d4e4e9165a0c2249c05df",
              "IPY_MODEL_b78cfc5c42b64aeca79ce7ee8bab35cd"
            ],
            "layout": "IPY_MODEL_aa5bef2ccb0144189d9b480e4aede064"
          }
        },
        "ea0a7b17aa2b4329a6a93924a5b31939": {
          "model_module": "@jupyter-widgets/controls",
          "model_name": "HTMLModel",
          "model_module_version": "1.5.0",
          "state": {
            "_dom_classes": [],
            "_model_module": "@jupyter-widgets/controls",
            "_model_module_version": "1.5.0",
            "_model_name": "HTMLModel",
            "_view_count": null,
            "_view_module": "@jupyter-widgets/controls",
            "_view_module_version": "1.5.0",
            "_view_name": "HTMLView",
            "description": "",
            "description_tooltip": null,
            "layout": "IPY_MODEL_c42daca065544762b99c29ca7c752f7a",
            "placeholder": "​",
            "style": "IPY_MODEL_69228c2540ab4009ad024db9e7d6928f",
            "value": "100%"
          }
        },
        "dc738505cb7d4e4e9165a0c2249c05df": {
          "model_module": "@jupyter-widgets/controls",
          "model_name": "FloatProgressModel",
          "model_module_version": "1.5.0",
          "state": {
            "_dom_classes": [],
            "_model_module": "@jupyter-widgets/controls",
            "_model_module_version": "1.5.0",
            "_model_name": "FloatProgressModel",
            "_view_count": null,
            "_view_module": "@jupyter-widgets/controls",
            "_view_module_version": "1.5.0",
            "_view_name": "ProgressView",
            "bar_style": "success",
            "description": "",
            "description_tooltip": null,
            "layout": "IPY_MODEL_4f0a1bdd3bf04fe492c4aaffe9750904",
            "max": 170498071,
            "min": 0,
            "orientation": "horizontal",
            "style": "IPY_MODEL_a5b84f32b6eb475aaef4f7635c8c3701",
            "value": 170498071
          }
        },
        "b78cfc5c42b64aeca79ce7ee8bab35cd": {
          "model_module": "@jupyter-widgets/controls",
          "model_name": "HTMLModel",
          "model_module_version": "1.5.0",
          "state": {
            "_dom_classes": [],
            "_model_module": "@jupyter-widgets/controls",
            "_model_module_version": "1.5.0",
            "_model_name": "HTMLModel",
            "_view_count": null,
            "_view_module": "@jupyter-widgets/controls",
            "_view_module_version": "1.5.0",
            "_view_name": "HTMLView",
            "description": "",
            "description_tooltip": null,
            "layout": "IPY_MODEL_01bb20daa4d94f8db4d91c33f26846e7",
            "placeholder": "​",
            "style": "IPY_MODEL_b107842871ec40a4b70f882c5962f398",
            "value": " 170498071/170498071 [00:03&lt;00:00, 53860062.48it/s]"
          }
        },
        "aa5bef2ccb0144189d9b480e4aede064": {
          "model_module": "@jupyter-widgets/base",
          "model_name": "LayoutModel",
          "model_module_version": "1.2.0",
          "state": {
            "_model_module": "@jupyter-widgets/base",
            "_model_module_version": "1.2.0",
            "_model_name": "LayoutModel",
            "_view_count": null,
            "_view_module": "@jupyter-widgets/base",
            "_view_module_version": "1.2.0",
            "_view_name": "LayoutView",
            "align_content": null,
            "align_items": null,
            "align_self": null,
            "border": null,
            "bottom": null,
            "display": null,
            "flex": null,
            "flex_flow": null,
            "grid_area": null,
            "grid_auto_columns": null,
            "grid_auto_flow": null,
            "grid_auto_rows": null,
            "grid_column": null,
            "grid_gap": null,
            "grid_row": null,
            "grid_template_areas": null,
            "grid_template_columns": null,
            "grid_template_rows": null,
            "height": null,
            "justify_content": null,
            "justify_items": null,
            "left": null,
            "margin": null,
            "max_height": null,
            "max_width": null,
            "min_height": null,
            "min_width": null,
            "object_fit": null,
            "object_position": null,
            "order": null,
            "overflow": null,
            "overflow_x": null,
            "overflow_y": null,
            "padding": null,
            "right": null,
            "top": null,
            "visibility": null,
            "width": null
          }
        },
        "c42daca065544762b99c29ca7c752f7a": {
          "model_module": "@jupyter-widgets/base",
          "model_name": "LayoutModel",
          "model_module_version": "1.2.0",
          "state": {
            "_model_module": "@jupyter-widgets/base",
            "_model_module_version": "1.2.0",
            "_model_name": "LayoutModel",
            "_view_count": null,
            "_view_module": "@jupyter-widgets/base",
            "_view_module_version": "1.2.0",
            "_view_name": "LayoutView",
            "align_content": null,
            "align_items": null,
            "align_self": null,
            "border": null,
            "bottom": null,
            "display": null,
            "flex": null,
            "flex_flow": null,
            "grid_area": null,
            "grid_auto_columns": null,
            "grid_auto_flow": null,
            "grid_auto_rows": null,
            "grid_column": null,
            "grid_gap": null,
            "grid_row": null,
            "grid_template_areas": null,
            "grid_template_columns": null,
            "grid_template_rows": null,
            "height": null,
            "justify_content": null,
            "justify_items": null,
            "left": null,
            "margin": null,
            "max_height": null,
            "max_width": null,
            "min_height": null,
            "min_width": null,
            "object_fit": null,
            "object_position": null,
            "order": null,
            "overflow": null,
            "overflow_x": null,
            "overflow_y": null,
            "padding": null,
            "right": null,
            "top": null,
            "visibility": null,
            "width": null
          }
        },
        "69228c2540ab4009ad024db9e7d6928f": {
          "model_module": "@jupyter-widgets/controls",
          "model_name": "DescriptionStyleModel",
          "model_module_version": "1.5.0",
          "state": {
            "_model_module": "@jupyter-widgets/controls",
            "_model_module_version": "1.5.0",
            "_model_name": "DescriptionStyleModel",
            "_view_count": null,
            "_view_module": "@jupyter-widgets/base",
            "_view_module_version": "1.2.0",
            "_view_name": "StyleView",
            "description_width": ""
          }
        },
        "4f0a1bdd3bf04fe492c4aaffe9750904": {
          "model_module": "@jupyter-widgets/base",
          "model_name": "LayoutModel",
          "model_module_version": "1.2.0",
          "state": {
            "_model_module": "@jupyter-widgets/base",
            "_model_module_version": "1.2.0",
            "_model_name": "LayoutModel",
            "_view_count": null,
            "_view_module": "@jupyter-widgets/base",
            "_view_module_version": "1.2.0",
            "_view_name": "LayoutView",
            "align_content": null,
            "align_items": null,
            "align_self": null,
            "border": null,
            "bottom": null,
            "display": null,
            "flex": null,
            "flex_flow": null,
            "grid_area": null,
            "grid_auto_columns": null,
            "grid_auto_flow": null,
            "grid_auto_rows": null,
            "grid_column": null,
            "grid_gap": null,
            "grid_row": null,
            "grid_template_areas": null,
            "grid_template_columns": null,
            "grid_template_rows": null,
            "height": null,
            "justify_content": null,
            "justify_items": null,
            "left": null,
            "margin": null,
            "max_height": null,
            "max_width": null,
            "min_height": null,
            "min_width": null,
            "object_fit": null,
            "object_position": null,
            "order": null,
            "overflow": null,
            "overflow_x": null,
            "overflow_y": null,
            "padding": null,
            "right": null,
            "top": null,
            "visibility": null,
            "width": null
          }
        },
        "a5b84f32b6eb475aaef4f7635c8c3701": {
          "model_module": "@jupyter-widgets/controls",
          "model_name": "ProgressStyleModel",
          "model_module_version": "1.5.0",
          "state": {
            "_model_module": "@jupyter-widgets/controls",
            "_model_module_version": "1.5.0",
            "_model_name": "ProgressStyleModel",
            "_view_count": null,
            "_view_module": "@jupyter-widgets/base",
            "_view_module_version": "1.2.0",
            "_view_name": "StyleView",
            "bar_color": null,
            "description_width": ""
          }
        },
        "01bb20daa4d94f8db4d91c33f26846e7": {
          "model_module": "@jupyter-widgets/base",
          "model_name": "LayoutModel",
          "model_module_version": "1.2.0",
          "state": {
            "_model_module": "@jupyter-widgets/base",
            "_model_module_version": "1.2.0",
            "_model_name": "LayoutModel",
            "_view_count": null,
            "_view_module": "@jupyter-widgets/base",
            "_view_module_version": "1.2.0",
            "_view_name": "LayoutView",
            "align_content": null,
            "align_items": null,
            "align_self": null,
            "border": null,
            "bottom": null,
            "display": null,
            "flex": null,
            "flex_flow": null,
            "grid_area": null,
            "grid_auto_columns": null,
            "grid_auto_flow": null,
            "grid_auto_rows": null,
            "grid_column": null,
            "grid_gap": null,
            "grid_row": null,
            "grid_template_areas": null,
            "grid_template_columns": null,
            "grid_template_rows": null,
            "height": null,
            "justify_content": null,
            "justify_items": null,
            "left": null,
            "margin": null,
            "max_height": null,
            "max_width": null,
            "min_height": null,
            "min_width": null,
            "object_fit": null,
            "object_position": null,
            "order": null,
            "overflow": null,
            "overflow_x": null,
            "overflow_y": null,
            "padding": null,
            "right": null,
            "top": null,
            "visibility": null,
            "width": null
          }
        },
        "b107842871ec40a4b70f882c5962f398": {
          "model_module": "@jupyter-widgets/controls",
          "model_name": "DescriptionStyleModel",
          "model_module_version": "1.5.0",
          "state": {
            "_model_module": "@jupyter-widgets/controls",
            "_model_module_version": "1.5.0",
            "_model_name": "DescriptionStyleModel",
            "_view_count": null,
            "_view_module": "@jupyter-widgets/base",
            "_view_module_version": "1.2.0",
            "_view_name": "StyleView",
            "description_width": ""
          }
        }
      }
    }
  },
  "cells": [
    {
      "cell_type": "code",
      "execution_count": null,
      "metadata": {
        "id": "3dAZhToAwa5a"
      },
      "outputs": [],
      "source": [
        "import torch\n",
        "import torch.nn as nn\n",
        "import numpy as np\n",
        "import torch.optim as optim # 最佳化資料庫\n",
        "from torchvision import datasets\n",
        "from matplotlib import pyplot as plt"
      ]
    },
    {
      "cell_type": "markdown",
      "source": [
        "cifar10為numpy"
      ],
      "metadata": {
        "id": "BmPpcZupW_95"
      }
    },
    {
      "cell_type": "code",
      "source": [
        "import os\n",
        "data_path = os.getcwd() # 在datasets內建有CIFAR10\n",
        "cifar10 = datasets.CIFAR10(data_path, train=True, download=True) # 第一次下載download為True \n",
        "cifar10_val = datasets.CIFAR10(data_path, train=False, download=True) # val不用train"
      ],
      "metadata": {
        "colab": {
          "base_uri": "https://localhost:8080/",
          "height": 101,
          "referenced_widgets": [
            "d9e7e755f0e949049edfdfb849e43c64",
            "ea0a7b17aa2b4329a6a93924a5b31939",
            "dc738505cb7d4e4e9165a0c2249c05df",
            "b78cfc5c42b64aeca79ce7ee8bab35cd",
            "aa5bef2ccb0144189d9b480e4aede064",
            "c42daca065544762b99c29ca7c752f7a",
            "69228c2540ab4009ad024db9e7d6928f",
            "4f0a1bdd3bf04fe492c4aaffe9750904",
            "a5b84f32b6eb475aaef4f7635c8c3701",
            "01bb20daa4d94f8db4d91c33f26846e7",
            "b107842871ec40a4b70f882c5962f398"
          ]
        },
        "id": "x73Ovd9Y64H9",
        "outputId": "47ef7c03-f47e-4c46-a2cc-1bcbfb53a7eb"
      },
      "execution_count": null,
      "outputs": [
        {
          "output_type": "stream",
          "name": "stdout",
          "text": [
            "Downloading https://www.cs.toronto.edu/~kriz/cifar-10-python.tar.gz to /content/cifar-10-python.tar.gz\n"
          ]
        },
        {
          "output_type": "display_data",
          "data": {
            "text/plain": [
              "  0%|          | 0/170498071 [00:00<?, ?it/s]"
            ],
            "application/vnd.jupyter.widget-view+json": {
              "version_major": 2,
              "version_minor": 0,
              "model_id": "d9e7e755f0e949049edfdfb849e43c64"
            }
          },
          "metadata": {}
        },
        {
          "output_type": "stream",
          "name": "stdout",
          "text": [
            "Extracting /content/cifar-10-python.tar.gz to /content\n",
            "Files already downloaded and verified\n"
          ]
        }
      ]
    },
    {
      "cell_type": "code",
      "source": [
        "img, label = cifar10[1] # 取圖片 會回傳一個label和img\n",
        "plt.imshow(img)\n",
        "plt.show()"
      ],
      "metadata": {
        "colab": {
          "base_uri": "https://localhost:8080/",
          "height": 266
        },
        "id": "ARJDnUa_wrzD",
        "outputId": "3116aab9-af36-4ee3-d248-ca2b72b65c3b"
      },
      "execution_count": null,
      "outputs": [
        {
          "output_type": "display_data",
          "data": {
            "text/plain": [
              "<Figure size 432x288 with 1 Axes>"
            ],
            "image/png": "[encoded data removed]"
          },
          "metadata": {
            "needs_background": "light"
          }
        }
      ]
    },
    {
      "cell_type": "markdown",
      "source": [
        "轉成tensor"
      ],
      "metadata": {
        "id": "0oevjBswXgTb"
      }
    },
    {
      "cell_type": "code",
      "source": [
        "# 法1. 轉成tensor (分兩步驟) (transforms.ToTensor())\n",
        "from torchvision import transforms\n",
        "to_tensor = transforms.ToTensor() # 物件化\n",
        "img_t = to_tensor(img) # 轉成tensor\n",
        "img_t.shape"
      ],
      "metadata": {
        "colab": {
          "base_uri": "https://localhost:8080/"
        },
        "id": "717qitRr-Ksw",
        "outputId": "09683b63-d2ed-4199-cdba-208b581981cd"
      },
      "execution_count": null,
      "outputs": [
        {
          "output_type": "execute_result",
          "data": {
            "text/plain": [
              "torch.Size([3, 32, 32])"
            ]
          },
          "metadata": {},
          "execution_count": 4
        }
      ]
    },
    {
      "cell_type": "code",
      "source": [
        "# 法2. 也可以直接再匯入階段完成\n",
        "tensor_cifar10 = datasets.CIFAR10(data_path, train=True, download=False,transform=transforms.ToTensor())"
      ],
      "metadata": {
        "id": "Vog7kdvi-Wyu"
      },
      "execution_count": null,
      "outputs": []
    },
    {
      "cell_type": "code",
      "source": [
        "img_t, _ = tensor_cifar10[1] # 抓第99個步驟\n",
        "#type(img_t)\n",
        "img_t.shape, img_t.dtype # (3個channel RGB, 圖片大小32*32)"
      ],
      "metadata": {
        "colab": {
          "base_uri": "https://localhost:8080/"
        },
        "id": "Kjmfv-ED-anV",
        "outputId": "89516321-487b-45ad-ba85-09eccb954145"
      },
      "execution_count": null,
      "outputs": [
        {
          "output_type": "execute_result",
          "data": {
            "text/plain": [
              "(torch.Size([3, 32, 32]), torch.float32)"
            ]
          },
          "metadata": {},
          "execution_count": 6
        }
      ]
    },
    {
      "cell_type": "code",
      "source": [
        "# tensor顯示圖片\n",
        "plt.imshow(img_t.permute(1, 2, 0)) # 從tensor(C,H,W)轉到numpy(H,W,C)\n",
        "plt.show()"
      ],
      "metadata": {
        "colab": {
          "base_uri": "https://localhost:8080/",
          "height": 266
        },
        "id": "m1XgYJlrUkLW",
        "outputId": "e6e46120-8b9e-4534-fbdd-e882318753d5"
      },
      "execution_count": null,
      "outputs": [
        {
          "output_type": "display_data",
          "data": {
            "text/plain": [
              "<Figure size 432x288 with 1 Axes>"
            ],
            "image/png": "[encoded data removed]"
          },
          "metadata": {
            "needs_background": "light"
          }
        }
      ]
    },
    {
      "cell_type": "markdown",
      "source": [
        "標準化"
      ],
      "metadata": {
        "id": "bPH7fOPGXjBW"
      }
    },
    {
      "cell_type": "code",
      "source": [
        "# 變四軸\n",
        "imgs = torch.stack([img_t for img_t, _ in tensor_cifar10], dim=3) # 把tensor_cifar10中所有的5000張圖片放在第四維\n",
        "# img_t.shape為共5000張torch.Size([3, 32, 32])的圖片疊加\n",
        "imgs.shape"
      ],
      "metadata": {
        "colab": {
          "base_uri": "https://localhost:8080/"
        },
        "id": "PnGNNMrV-0NP",
        "outputId": "12e06263-4d28-49c4-894a-ccb174470b9b"
      },
      "execution_count": null,
      "outputs": [
        {
          "output_type": "execute_result",
          "data": {
            "text/plain": [
              "torch.Size([3, 32, 32, 50000])"
            ]
          },
          "metadata": {},
          "execution_count": 8
        }
      ]
    },
    {
      "cell_type": "code",
      "source": [
        "# 標準化\n",
        "# ?? 三維\n",
        "imgs.view(3, -1).mean(dim=1) # 3列 其他自動合併(32*32) 變(3,1024) 為橫向相加求平均 \n",
        "# tensor([0.4915, 0.4823, 0.4468])\n",
        "imgs.view(3, -1).std(dim=1) \n",
        "# tensor([0.2470, 0.2435, 0.2616])\n",
        "\n",
        "transforms.Normalize((0.4915, 0.4823, 0.4468), (0.2470, 0.2435, 0.2616)) # 標準化後會把黑色背景拿掉"
      ],
      "metadata": {
        "colab": {
          "base_uri": "https://localhost:8080/"
        },
        "id": "fJytPAsA-8l1",
        "outputId": "3a08dfb7-8dce-43a6-d05b-0fe0f8f156e5"
      },
      "execution_count": null,
      "outputs": [
        {
          "output_type": "execute_result",
          "data": {
            "text/plain": [
              "Normalize(mean=(0.4915, 0.4823, 0.4468), std=(0.247, 0.2435, 0.2616))"
            ]
          },
          "metadata": {},
          "execution_count": 9
        }
      ]
    },
    {
      "cell_type": "markdown",
      "source": [
        "cifar10轉tensor和標準化"
      ],
      "metadata": {
        "id": "MfNQQ0FFgyzs"
      }
    },
    {
      "cell_type": "code",
      "source": [
        "transformed_cifar10 = datasets.CIFAR10(\n",
        "  data_path, train=True, download=True,\n",
        "  transform=transforms.Compose([\n",
        "  transforms.ToTensor(),\n",
        "  transforms.Normalize((0.4915, 0.4823, 0.4468),\n",
        "  (0.2470, 0.2435, 0.2616))\n",
        "]))\n",
        "# val組\n",
        "transformed_cifar10_val = datasets.CIFAR10(\n",
        "  data_path, train=False, download=True,\n",
        "  transform=transforms.Compose([\n",
        "  transforms.ToTensor(),\n",
        "  transforms.Normalize((0.4915, 0.4823, 0.4468),\n",
        "  (0.2470, 0.2435, 0.2616))\n",
        "]))"
      ],
      "metadata": {
        "id": "Z65-YuG4_Lnj",
        "colab": {
          "base_uri": "https://localhost:8080/"
        },
        "outputId": "fc8ed197-53c7-49d5-c19e-a963a0a2608d"
      },
      "execution_count": null,
      "outputs": [
        {
          "output_type": "stream",
          "name": "stdout",
          "text": [
            "Files already downloaded and verified\n",
            "Files already downloaded and verified\n"
          ]
        }
      ]
    },
    {
      "cell_type": "code",
      "source": [
        "# tensor顯示圖片\n",
        "img_t, _ = transformed_cifar10[1] # 必回傳一圖片+label\n",
        "plt.imshow(img_t.permute(1, 2, 0)) # 從tensor(C,H,W)轉到numpy(H,W,C)\n",
        "plt.show()"
      ],
      "metadata": {
        "colab": {
          "base_uri": "https://localhost:8080/",
          "height": 283
        },
        "id": "4rsrZmaO_rkV",
        "outputId": "4288d565-bdf9-4380-aeee-e3315460a64b"
      },
      "execution_count": null,
      "outputs": [
        {
          "output_type": "stream",
          "name": "stderr",
          "text": [
            "WARNING:matplotlib.image:Clipping input data to the valid range for imshow with RGB data ([0..1] for floats or [0..255] for integers).\n"
          ]
        },
        {
          "output_type": "display_data",
          "data": {
            "text/plain": [
              "<Figure size 432x288 with 1 Axes>"
            ],
            "image/png": "[encoded data removed]"
          },
          "metadata": {
            "needs_background": "light"
          }
        }
      ]
    },
    {
      "cell_type": "markdown",
      "source": [
        "分辨飛機與鳥cifar2"
      ],
      "metadata": {
        "id": "UuciJyb0iGnD"
      }
    },
    {
      "cell_type": "code",
      "source": [
        "# 只取鳥和飛機\n",
        "label_map = {0: 0, 2: 1} # {飛機: 新的array的0位置, 鳥: 新的array的1位置} ex.為0就轉換為0 為2就轉換為1\n",
        "class_names = ['airplane', 'bird'] \n",
        "\n",
        "# 若label為0和2 匯出其img和label label放到label_map轉換整數值\n",
        "cifar2 = [(img, label_map[label]) \n",
        "      for img, label in transformed_cifar10\n",
        "      if label in [0, 2]]\n",
        "cifar2_val = [(img, label_map[label])\n",
        "        for img, label in transformed_cifar10_val\n",
        "        if label in [0, 2]]"
      ],
      "metadata": {
        "id": "srAIeEOH_z7j"
      },
      "execution_count": null,
      "outputs": []
    },
    {
      "cell_type": "markdown",
      "source": [
        "softmax"
      ],
      "metadata": {
        "id": "eAUqyKoSlY3w"
      }
    },
    {
      "cell_type": "code",
      "source": [
        "# 法1. 自行定義\n",
        "def softmax(x):\n",
        "  return torch.exp(x) / torch.exp(x).sum()"
      ],
      "metadata": {
        "id": "x8EiQ8mAlYdu"
      },
      "execution_count": null,
      "outputs": []
    },
    {
      "cell_type": "code",
      "source": [
        "x = torch.tensor([1.0, 2.0, 3.0])\n",
        "softmax(x) # softmax為把進去的數值標準化 \n",
        "softmax(x).sum() # 且全部相加會是1"
      ],
      "metadata": {
        "colab": {
          "base_uri": "https://localhost:8080/"
        },
        "id": "fiV46Tualc2c",
        "outputId": "2d66ae8f-c2df-4954-cbf7-b31586ef1913"
      },
      "execution_count": null,
      "outputs": [
        {
          "output_type": "execute_result",
          "data": {
            "text/plain": [
              "tensor(1.)"
            ]
          },
          "metadata": {},
          "execution_count": 84
        }
      ]
    },
    {
      "cell_type": "code",
      "source": [
        "# 法2. torch.nn裡面有Softmax功能\n",
        "softmax = nn.Softmax(dim=1)"
      ],
      "metadata": {
        "id": "DNP_pYFWmSb2"
      },
      "execution_count": null,
      "outputs": []
    },
    {
      "cell_type": "code",
      "source": [
        "x = torch.tensor([[1.0, 2.0, 3.0],\n",
        "          [1.0, 2.0, 3.0]])\n",
        "# 為橫向比較(結果橫向會為1.)\n",
        "softmax(x)"
      ],
      "metadata": {
        "colab": {
          "base_uri": "https://localhost:8080/"
        },
        "id": "NBdZVCCqmwbp",
        "outputId": "7df66f0d-6d36-4789-c856-e2c3ae075307"
      },
      "execution_count": null,
      "outputs": [
        {
          "output_type": "execute_result",
          "data": {
            "text/plain": [
              "tensor([[0.0900, 0.2447, 0.6652],\n",
              "        [0.0900, 0.2447, 0.6652]])"
            ]
          },
          "metadata": {},
          "execution_count": 86
        }
      ]
    },
    {
      "cell_type": "markdown",
      "source": [
        "訓練模型(softmax)"
      ],
      "metadata": {
        "id": "P5gtXGdyrWcI"
      }
    },
    {
      "cell_type": "code",
      "source": [
        "model = nn.Sequential(\n",
        "      nn.Linear(3072, 512), # 標準化後為(3,1024) 共有3*1024=3072個計算點 512為自設\n",
        "      nn.Tanh(),\n",
        "      nn.Linear(512, 2), # 匯入資料庫為cifar2 所以最後僅會輸出鳥或飛機的機率\n",
        "      nn.Softmax(dim=1)) "
      ],
      "metadata": {
        "id": "nBMaTCxSqbeD"
      },
      "execution_count": null,
      "outputs": []
    },
    {
      "cell_type": "code",
      "source": [
        "img, _ = cifar2[0] # img為tensor\n",
        "# img.shape為torch.Size([3, 32, 32])\n",
        "plt.imshow(img.permute(1, 2, 0)) # 從tensor(C,H,W)轉到numpy(H,W,C)\n",
        "plt.show()"
      ],
      "metadata": {
        "colab": {
          "base_uri": "https://localhost:8080/",
          "height": 283
        },
        "id": "uA0PydU8rZ-D",
        "outputId": "962bd170-8e03-4a31-f128-e4b6bf0fb49e"
      },
      "execution_count": null,
      "outputs": [
        {
          "output_type": "stream",
          "name": "stderr",
          "text": [
            "WARNING:matplotlib.image:Clipping input data to the valid range for imshow with RGB data ([0..1] for floats or [0..255] for integers).\n"
          ]
        },
        {
          "output_type": "display_data",
          "data": {
            "text/plain": [
              "<Figure size 432x288 with 1 Axes>"
            ],
            "image/png": "[encoded data removed]"
          },
          "metadata": {
            "needs_background": "light"
          }
        }
      ]
    },
    {
      "cell_type": "code",
      "source": [
        "# 調整tensor為了fit model\n",
        "img_batch = img.view(-1).unsqueeze(0) # 合併[3, 32, 32]變成一維3072(也就是一張圖片RGB+大小) 增加列變torch.Size([1, 3072])\n",
        "out = model(img_batch) # 訓練結果 拿到對於飛機和鳥的機率\n",
        "out "
      ],
      "metadata": {
        "colab": {
          "base_uri": "https://localhost:8080/"
        },
        "id": "vJp6gpBztD7d",
        "outputId": "f6e0c088-e8c6-4fc6-c17b-fbad1ecb899f"
      },
      "execution_count": null,
      "outputs": [
        {
          "output_type": "execute_result",
          "data": {
            "text/plain": [
              "tensor([[0.4582, 0.5418]], grad_fn=<SoftmaxBackward0>)"
            ]
          },
          "metadata": {},
          "execution_count": 89
        }
      ]
    },
    {
      "cell_type": "code",
      "source": [
        "_, index = torch.max(out, dim=1) # 分類 兩個機率中較大的 即為越像該物\n",
        "index"
      ],
      "metadata": {
        "colab": {
          "base_uri": "https://localhost:8080/"
        },
        "id": "BH1WTCbxwSub",
        "outputId": "89383c6b-b130-4bd0-d360-c83d188a5e88"
      },
      "execution_count": null,
      "outputs": [
        {
          "output_type": "execute_result",
          "data": {
            "text/plain": [
              "tensor([1])"
            ]
          },
          "metadata": {},
          "execution_count": 90
        }
      ]
    },
    {
      "cell_type": "markdown",
      "source": [
        "訓練模型(LogSoftmax)"
      ],
      "metadata": {
        "id": "j4ojzbHnw_PI"
      }
    },
    {
      "cell_type": "code",
      "source": [
        "# 訓練層\n",
        "model = nn.Sequential(\n",
        "      nn.Linear(3072, 512),\n",
        "      nn.Tanh(),\n",
        "      nn.Linear(512, 2),\n",
        "      nn.LogSoftmax(dim=1))"
      ],
      "metadata": {
        "id": "GbIUyEjUACZh"
      },
      "execution_count": null,
      "outputs": []
    },
    {
      "cell_type": "code",
      "source": [
        "loss_fn = nn.NLLLoss() # 其相對應的loss function"
      ],
      "metadata": {
        "id": "7Ycs10IWBOfe"
      },
      "execution_count": null,
      "outputs": []
    },
    {
      "cell_type": "code",
      "source": [
        "learning_rate = 1e-2 # 學習率\n",
        "optimizer = optim.SGD(model.parameters(), lr=learning_rate) # 優化器"
      ],
      "metadata": {
        "id": "C6EKPy5BA_c4"
      },
      "execution_count": null,
      "outputs": []
    },
    {
      "cell_type": "code",
      "source": [
        "n_epochs = 100\n",
        "for epoch in range(n_epochs):\n",
        "  for img, label in cifar2: # 已經只有鳥和飛機的資料庫cifar2\n",
        "    out = model(img.view(-1).unsqueeze(0)) # 皆變成一維 輸出飛機和鳥的機率\n",
        "    loss = loss_fn(out, torch.tensor([label])) # out為訓練出來model猜的機率 torch.tensor([label])為label_map[label]為真正的機率0或1 訓練再回饋\n",
        "\n",
        "    optimizer.zero_grad()\n",
        "    loss.backward()\n",
        "    optimizer.step()\n",
        "\n",
        "  print(\"Epoch: %d, Loss: %f\" % (epoch, float(loss)))"
      ],
      "metadata": {
        "colab": {
          "base_uri": "https://localhost:8080/"
        },
        "id": "I5M_4p2vyaXC",
        "outputId": "ebd43bce-70d2-429f-91d1-d7089591f614"
      },
      "execution_count": null,
      "outputs": [
        {
          "output_type": "stream",
          "name": "stdout",
          "text": [
            "Epoch: 0, Loss: 5.256861\n",
            "Epoch: 1, Loss: 8.348242\n",
            "Epoch: 2, Loss: 7.317271\n",
            "Epoch: 3, Loss: 5.298080\n",
            "Epoch: 4, Loss: 2.670596\n",
            "Epoch: 5, Loss: 5.714199\n",
            "Epoch: 6, Loss: 8.283811\n",
            "Epoch: 7, Loss: 0.045332\n",
            "Epoch: 8, Loss: 4.661410\n",
            "Epoch: 9, Loss: 8.732097\n",
            "Epoch: 10, Loss: 6.570645\n",
            "Epoch: 11, Loss: 10.903940\n",
            "Epoch: 12, Loss: 8.452579\n",
            "Epoch: 13, Loss: 12.276141\n",
            "Epoch: 14, Loss: 1.985197\n",
            "Epoch: 15, Loss: 8.468805\n",
            "Epoch: 16, Loss: 8.977559\n",
            "Epoch: 17, Loss: 11.802166\n",
            "Epoch: 18, Loss: 13.783492\n",
            "Epoch: 19, Loss: 8.342386\n",
            "Epoch: 20, Loss: 7.814776\n",
            "Epoch: 21, Loss: 14.684568\n",
            "Epoch: 22, Loss: 18.455353\n",
            "Epoch: 23, Loss: 8.123327\n",
            "Epoch: 24, Loss: 16.389753\n",
            "Epoch: 25, Loss: 5.970674\n",
            "Epoch: 26, Loss: 7.730535\n",
            "Epoch: 27, Loss: 10.598942\n",
            "Epoch: 28, Loss: 11.692357\n",
            "Epoch: 29, Loss: 18.290493\n",
            "Epoch: 30, Loss: 6.741017\n",
            "Epoch: 31, Loss: 3.140961\n",
            "Epoch: 32, Loss: 14.474245\n",
            "Epoch: 33, Loss: 0.858184\n",
            "Epoch: 34, Loss: 3.124828\n",
            "Epoch: 35, Loss: 10.795798\n",
            "Epoch: 36, Loss: 6.861374\n",
            "Epoch: 37, Loss: 6.999712\n",
            "Epoch: 38, Loss: 23.548885\n",
            "Epoch: 39, Loss: 11.726207\n",
            "Epoch: 40, Loss: 6.374689\n",
            "Epoch: 41, Loss: 0.033358\n",
            "Epoch: 42, Loss: 1.208264\n",
            "Epoch: 43, Loss: 2.777014\n",
            "Epoch: 44, Loss: 3.617380\n",
            "Epoch: 45, Loss: 3.156569\n",
            "Epoch: 46, Loss: 0.841386\n",
            "Epoch: 47, Loss: 11.069815\n",
            "Epoch: 48, Loss: 13.159912\n",
            "Epoch: 49, Loss: 12.745706\n",
            "Epoch: 50, Loss: 1.857414\n",
            "Epoch: 51, Loss: 2.812334\n",
            "Epoch: 52, Loss: 8.547734\n",
            "Epoch: 53, Loss: 5.139158\n",
            "Epoch: 54, Loss: 9.278746\n",
            "Epoch: 55, Loss: 11.690927\n",
            "Epoch: 56, Loss: 10.871130\n",
            "Epoch: 57, Loss: 19.179268\n",
            "Epoch: 58, Loss: 7.519674\n",
            "Epoch: 59, Loss: 10.093483\n",
            "Epoch: 60, Loss: 15.918261\n",
            "Epoch: 61, Loss: 20.599634\n",
            "Epoch: 62, Loss: 2.335446\n",
            "Epoch: 63, Loss: 25.325127\n",
            "Epoch: 64, Loss: 20.628433\n",
            "Epoch: 65, Loss: 16.402546\n",
            "Epoch: 66, Loss: 15.957386\n",
            "Epoch: 67, Loss: 14.206570\n",
            "Epoch: 68, Loss: 18.571400\n",
            "Epoch: 69, Loss: 12.620103\n",
            "Epoch: 70, Loss: 11.148430\n",
            "Epoch: 71, Loss: 11.033797\n",
            "Epoch: 72, Loss: 15.668799\n",
            "Epoch: 73, Loss: 0.116551\n",
            "Epoch: 74, Loss: 6.847476\n",
            "Epoch: 75, Loss: 0.554698\n",
            "Epoch: 76, Loss: 12.288663\n",
            "Epoch: 77, Loss: 14.162211\n",
            "Epoch: 78, Loss: 7.151183\n",
            "Epoch: 79, Loss: 11.421618\n",
            "Epoch: 80, Loss: 14.262858\n",
            "Epoch: 81, Loss: 5.207996\n",
            "Epoch: 82, Loss: 14.266011\n",
            "Epoch: 83, Loss: 12.109084\n",
            "Epoch: 84, Loss: 9.559669\n",
            "Epoch: 85, Loss: 8.579252\n",
            "Epoch: 86, Loss: 3.249712\n",
            "Epoch: 87, Loss: 9.619258\n",
            "Epoch: 88, Loss: 6.551605\n",
            "Epoch: 89, Loss: 7.839752\n",
            "Epoch: 90, Loss: 7.198640\n",
            "Epoch: 91, Loss: 0.014775\n",
            "Epoch: 92, Loss: 0.933626\n",
            "Epoch: 93, Loss: 6.363092\n",
            "Epoch: 94, Loss: 0.030110\n",
            "Epoch: 95, Loss: 2.971408\n",
            "Epoch: 96, Loss: 5.956225\n",
            "Epoch: 97, Loss: 0.010829\n",
            "Epoch: 98, Loss: 0.304803\n",
            "Epoch: 99, Loss: 0.000019\n"
          ]
        }
      ]
    }
  ]
}